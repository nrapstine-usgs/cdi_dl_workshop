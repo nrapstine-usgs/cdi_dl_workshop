{
 "cells": [
  {
   "cell_type": "markdown",
   "metadata": {},
   "source": [
    "# Overview of Day 1"
   ]
  },
  {
   "cell_type": "markdown",
   "metadata": {},
   "source": [
    "> Written by Dr Daniel Buscombe, Northern Arizona University\n",
    "\n",
    "> Part of a series of notebooks for image recognition and classification using deep convolutional neural networks"
   ]
  },
  {
   "cell_type": "markdown",
   "metadata": {},
   "source": [
    "## Getting started (1.1.Preliminaries.ipynb)"
   ]
  },
  {
   "cell_type": "markdown",
   "metadata": {},
   "source": [
    "#### We will be using python code within a Conda virtual environment\n",
    "\n",
    "#### There are up to 3 ways you can execute these workshop materials\n",
    "\n",
    "1. Running ```cdi_dl_workshop``` jupyter notebooks on the ```pangeo.esipfed.org``` server \n",
    "2. Running ```cdi_dl_workshop``` jupyter notebooks locally on your own computer\n",
    "3. Running ```dl_tools``` python scripts locally on your own computer\n",
    "\n",
    "In this workshop we will do all three of these things"
   ]
  },
  {
   "cell_type": "markdown",
   "metadata": {},
   "source": [
    "## Lightning Intro Talks"
   ]
  },
  {
   "cell_type": "markdown",
   "metadata": {},
   "source": [
    "Approx. 2 mins per person. Say hi and tell us why you're here!"
   ]
  },
  {
   "cell_type": "markdown",
   "metadata": {},
   "source": [
    "## A really brief introduction to Jupyter (1.3.Intro_jupyter.ipynb)"
   ]
  },
  {
   "cell_type": "markdown",
   "metadata": {},
   "source": [
    "Just the basics of how to run, edit and create jupyter notebooks\n",
    "\n",
    "* Basics\n",
    "* Magic commands\n",
    "* File management"
   ]
  },
  {
   "cell_type": "markdown",
   "metadata": {},
   "source": [
    "## ML for image classification (1.2.ML_for_imageclass.ipynb)"
   ]
  },
  {
   "cell_type": "markdown",
   "metadata": {},
   "source": [
    "* Brief overview of some key general concepts in ML\n",
    "* Types of ML for image analysis\n",
    "* Difference between ML and Deep Learning\n",
    "* Case Study"
   ]
  },
  {
   "cell_type": "markdown",
   "metadata": {},
   "source": [
    "## Data sets (1.4.Datasets.ipynb)"
   ]
  },
  {
   "cell_type": "markdown",
   "metadata": {},
   "source": [
    "Introduction to the datasets I have curated for this class, and how to access them programmatically\n",
    "\n",
    "* Interacting with S3 storage and looking at file structure\n",
    "* Reading and displaying imagery\n",
    "* Reading other types of files"
   ]
  },
  {
   "cell_type": "markdown",
   "metadata": {},
   "source": [
    "## Machine Learning for Image Classification demos"
   ]
  },
  {
   "cell_type": "markdown",
   "metadata": {},
   "source": [
    "### Feature extraction (1.5.feature_extraction.ipynb)"
   ]
  },
  {
   "cell_type": "markdown",
   "metadata": {},
   "source": [
    "An overview of some common image feature extraction strategies, including\n",
    "* Histogram of Oriented Gradients\n",
    "* Principal Components"
   ]
  },
  {
   "cell_type": "markdown",
   "metadata": {},
   "source": [
    "### Image recognition (whole image classification; 1.6.imrecog.ipynb)"
   ]
  },
  {
   "cell_type": "markdown",
   "metadata": {},
   "source": [
    "Training a classifier to 'recognize' and classify whole images\n",
    "\n",
    "* Case study: Classifying Grand Canyon sandbars (by site) using decision trees, random forests, and support vector machines\n",
    "* Accuracy statistics\n",
    "* Cross-validation\n",
    "* Case study: Finding airplanes in images using a support vector machine"
   ]
  },
  {
   "cell_type": "markdown",
   "metadata": {},
   "source": [
    "### Semantic Segmentation (pixelwise classification; 1.7.semseg.ipynb)"
   ]
  },
  {
   "cell_type": "markdown",
   "metadata": {},
   "source": [
    "Training a pixelwise classifier\n",
    "\n",
    "* Case study: classifying images of the Dutch coast, using Naive Bayes and Gaussian Mixture Models"
   ]
  },
  {
   "cell_type": "markdown",
   "metadata": {},
   "source": [
    "## Introduction to tensorflow (1.8.Intro_tensorflow.ipynb)"
   ]
  },
  {
   "cell_type": "markdown",
   "metadata": {},
   "source": [
    "* definitions\n",
    "* example tensorflow operations on imagery\n",
    "* placeholders and `feed dictionaries`"
   ]
  },
  {
   "cell_type": "markdown",
   "metadata": {},
   "source": [
    "## Introduction to Artificial Neural Networks (1.9.Intro_ANN.ipynb)"
   ]
  },
  {
   "cell_type": "markdown",
   "metadata": {},
   "source": [
    "* Basic overview of ANNs, including architecture, activation function, backpropagation\n",
    "* Case study: classify 12 types of land cover from satellite imagery (the slow way)\n",
    "* Do the above again, the fast way (using tensorflow)"
   ]
  },
  {
   "cell_type": "code",
   "execution_count": null,
   "metadata": {},
   "outputs": [],
   "source": []
  }
 ],
 "metadata": {
  "kernelspec": {
   "display_name": "Python [conda env:conda]",
   "language": "python",
   "name": "conda-env-conda-py"
  },
  "language_info": {
   "codemirror_mode": {
    "name": "ipython",
    "version": 3
   },
   "file_extension": ".py",
   "mimetype": "text/x-python",
   "name": "python",
   "nbconvert_exporter": "python",
   "pygments_lexer": "ipython3",
   "version": "3.6.5"
  }
 },
 "nbformat": 4,
 "nbformat_minor": 2
}
